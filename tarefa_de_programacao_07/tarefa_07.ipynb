{
 "cells": [
  {
   "cell_type": "markdown",
   "metadata": {},
   "source": [
    "# Tarefa de Programação 07"
   ]
  },
  {
   "cell_type": "markdown",
   "metadata": {},
   "source": [
    "### Implementando Funções/Expressões Lambda"
   ]
  },
  {
   "cell_type": "markdown",
   "metadata": {},
   "source": [
    "##### Soma Simples\n",
    "Crie uma função lambda que receba dois números e retorne sua soma. Teste a função com\n",
    "diferentes pares de números."
   ]
  },
  {
   "cell_type": "code",
   "execution_count": 1,
   "metadata": {},
   "outputs": [
    {
     "name": "stdout",
     "output_type": "stream",
     "text": [
      "3\n",
      "7\n",
      "11\n"
     ]
    }
   ],
   "source": [
    "soma = lambda x, y : x + y\n",
    "print(soma(1,2))\n",
    "print(soma(3,4))\n",
    "print(soma(5,6))"
   ]
  },
  {
   "cell_type": "markdown",
   "metadata": {},
   "source": [
    "##### Verificação de Paridade\n",
    "Escreva uma função lambda que receba um número e retorne True se ele for par e False caso\n",
    "contrário."
   ]
  },
  {
   "cell_type": "code",
   "execution_count": 2,
   "metadata": {},
   "outputs": [
    {
     "name": "stdout",
     "output_type": "stream",
     "text": [
      "False\n",
      "True\n",
      "False\n"
     ]
    }
   ],
   "source": [
    "paridade = lambda numero : numero % 2 == 0\n",
    "print(paridade(5))\n",
    "print(paridade(10))\n",
    "print(paridade(15))"
   ]
  },
  {
   "cell_type": "markdown",
   "metadata": {},
   "source": [
    "##### Elevar ao Quadrado\n",
    "Use uma função lambda dentro da função map() para elevar ao quadrado todos os números\n",
    "de uma lista."
   ]
  },
  {
   "cell_type": "code",
   "execution_count": 3,
   "metadata": {},
   "outputs": [
    {
     "name": "stdout",
     "output_type": "stream",
     "text": [
      "[1, 4, 9, 16, 25, 36]\n"
     ]
    }
   ],
   "source": [
    "lista = [1, 2, 3, 4, 5, 6]\n",
    "quadrado = list(map(lambda x : x ** 2, lista))\n",
    "print(quadrado)"
   ]
  },
  {
   "cell_type": "markdown",
   "metadata": {},
   "source": [
    "##### Composição de Funções\n",
    "Crie duas funções lambda: (i) uma que converte um valor em Celsius para Fahrenheit; e\n",
    "(ii) outra que arredonda o valor para o inteiro mais próximo. Em seguida, componha essas\n",
    "funções para criar uma única função que converta Celsius para Fahrenheit e retorne o valor\n",
    "arredondado. Teste com uma lista de temperaturas em Celsius."
   ]
  },
  {
   "cell_type": "code",
   "execution_count": 4,
   "metadata": {},
   "outputs": [
    {
     "name": "stdout",
     "output_type": "stream",
     "text": [
      "50\n"
     ]
    }
   ],
   "source": [
    "celsius_para_fahrenheit = lambda c: (c * 9 / 5) + 32\n",
    "arredondar = lambda x: round(x)\n",
    "resultado = lambda c: arredondar(celsius_para_fahrenheit(c))\n",
    "print(resultado(10))"
   ]
  },
  {
   "cell_type": "markdown",
   "metadata": {},
   "source": [
    "### Implementando com a Função Map"
   ]
  },
  {
   "cell_type": "markdown",
   "metadata": {},
   "source": [
    "##### Converter para Maiúsculas\n",
    "Dada a lista [\"python\", \"lambda\", \"map\"], use a função map() para converter todos os elemen-\n",
    "tos para maiúsculas."
   ]
  },
  {
   "cell_type": "code",
   "execution_count": 5,
   "metadata": {},
   "outputs": [
    {
     "name": "stdout",
     "output_type": "stream",
     "text": [
      "['PYTHON', 'LAMBDA', 'MAP']\n"
     ]
    }
   ],
   "source": [
    "lista = ['python', 'lambda', 'map']\n",
    "maiusculas = (list(map(lambda x : x.upper(), lista)))\n",
    "print(maiusculas)"
   ]
  },
  {
   "cell_type": "markdown",
   "metadata": {},
   "source": [
    "##### Raiz Quadrada\n",
    "Escreva uma função que, com o auxílio de map() e uma função lambda, calcule a raiz qua-\n",
    "drada de uma lista de números."
   ]
  },
  {
   "cell_type": "code",
   "execution_count": 6,
   "metadata": {},
   "outputs": [
    {
     "name": "stdout",
     "output_type": "stream",
     "text": [
      "[1.0, 9.0, 10.0, 2.0, 2.23606797749979, 2.449489742783178]\n"
     ]
    }
   ],
   "source": [
    "from math import sqrt\n",
    "lista = [1, 81, 100, 4, 5, 6]\n",
    "raiz = list(map(lambda x : sqrt(x), lista))\n",
    "print(raiz)"
   ]
  },
  {
   "cell_type": "markdown",
   "metadata": {},
   "source": [
    "##### Análise de Strings\n",
    "Dada a lista de frases [\"Python é incrível\", \"Lambda são úteis\", \"Map é funcional\"], use map() para criar uma lista de dicionários, onde cada dicionário contenha: (i) o número de palavras na frase; e (ii) o comprimento total da frase (em caracteres). Exemplo de saída para a frase dada: [{\"palavras\": 3, \"caracteres\": 17}, {\"palavras\": 3, \"caracteres\": 16}, {\"palavras\": 3, \"caracteres\": 15}]"
   ]
  },
  {
   "cell_type": "code",
   "execution_count": 7,
   "metadata": {},
   "outputs": [
    {
     "name": "stdout",
     "output_type": "stream",
     "text": [
      "[{'palavras': 3, 'caracteres': 17}, {'palavras': 3, 'caracteres': 16}, {'palavras': 3, 'caracteres': 15}]\n"
     ]
    }
   ],
   "source": [
    "lista =  [\"Python é incrível\", \"Lambda são úteis\", \"Map é funcional\"]\n",
    "dicionarios = list(map(lambda frase: {\"palavras\": len(frase.split()), \"caracteres\": len(frase)}, lista))\n",
    "print(dicionarios)"
   ]
  },
  {
   "cell_type": "markdown",
   "metadata": {},
   "source": [
    "### Implementando com a Função Filter"
   ]
  },
  {
   "cell_type": "markdown",
   "metadata": {},
   "source": [
    "##### Filtrar Números Positivos\n",
    "Use a função filter() para obter somente os números positivos de uma lista como [-10, 15,\n",
    "-20, 25, 0, 30]."
   ]
  },
  {
   "cell_type": "code",
   "execution_count": 8,
   "metadata": {},
   "outputs": [
    {
     "name": "stdout",
     "output_type": "stream",
     "text": [
      "[15, 25, 0, 30]\n"
     ]
    }
   ],
   "source": [
    "numeros = [-10, 15, -20, 25, 0, 30]\n",
    "positivos = filter(lambda number: number >= 0, numeros)\n",
    "print(list(positivos))"
   ]
  },
  {
   "cell_type": "markdown",
   "metadata": {},
   "source": [
    "##### Filtrar Palavras Curtas\n",
    "Dada uma lista de palavras, use filter() para selecionar apenas as palavras com mais de 5\n",
    "caracteres."
   ]
  },
  {
   "cell_type": "code",
   "execution_count": 9,
   "metadata": {},
   "outputs": [
    {
     "name": "stdout",
     "output_type": "stream",
     "text": [
      "['mercedes', 'ferrarri', 'renault']\n"
     ]
    }
   ],
   "source": [
    "palavras = ['mercedes', 'ferrarri', 'audi', 'honda', 'renault']\n",
    "caracteres = list(filter(lambda palavra : len(palavra) > 5, palavras))\n",
    "print(caracteres)"
   ]
  },
  {
   "cell_type": "markdown",
   "metadata": {},
   "source": [
    "##### Filtragem baseada em Múltiplas Condições\n",
    "Dada uma lista de números inteiros, use filter() para selecionar apenas aqueles que: (i) são\n",
    "múltiplos de 3 ou de 5; e (ii) são positivos. Retorne o resultado como uma lista."
   ]
  },
  {
   "cell_type": "code",
   "execution_count": 10,
   "metadata": {},
   "outputs": [
    {
     "name": "stdout",
     "output_type": "stream",
     "text": [
      "[5, 6, 10, 60, 80]\n"
     ]
    }
   ],
   "source": [
    "inteiros = [1, 5, -20, 6, -12, 8, 10, 60, 80]\n",
    "multiplos = list(filter(lambda x: x > 0 and (x % 3 == 0 or x % 5 == 0), inteiros))\n",
    "print(multiplos)"
   ]
  },
  {
   "cell_type": "markdown",
   "metadata": {},
   "source": [
    "### Implementando com a Função Reduce"
   ]
  },
  {
   "cell_type": "markdown",
   "metadata": {},
   "source": [
    "##### Produto de uma Lista\n",
    "Utilize a função reduce() para calcular o produto dos números em uma lista."
   ]
  },
  {
   "cell_type": "code",
   "execution_count": null,
   "metadata": {},
   "outputs": [],
   "source": []
  },
  {
   "cell_type": "markdown",
   "metadata": {},
   "source": [
    "##### Maior Número\n",
    "Use a função reduce() para encontrar o maior número em uma lista."
   ]
  },
  {
   "cell_type": "code",
   "execution_count": null,
   "metadata": {},
   "outputs": [],
   "source": []
  },
  {
   "cell_type": "markdown",
   "metadata": {},
   "source": [
    "#### Construção de um Dicionário\n",
    "Use reduce() para transformar uma lista de tuplas como [(\"a\", 1), (\"b\", 2), (\"a\", 3)] em um dicionário, onde as chaves são únicas e os valores correspondem à soma dos valores associados àquela chave. Exemplo de saída esperada: {\"a\": 4, \"b\": 2}."
   ]
  },
  {
   "cell_type": "code",
   "execution_count": null,
   "metadata": {},
   "outputs": [],
   "source": []
  },
  {
   "cell_type": "markdown",
   "metadata": {},
   "source": [
    "### Implementando Geradores e Expressões Geradoras"
   ]
  },
  {
   "cell_type": "markdown",
   "metadata": {},
   "source": [
    "#### Gerador de Pares\n",
    "Crie um gerador que produza todos os números pares entre 1 e 50. Use um loop for para\n",
    "exibir os números gerados."
   ]
  },
  {
   "cell_type": "code",
   "execution_count": null,
   "metadata": {},
   "outputs": [],
   "source": []
  },
  {
   "cell_type": "markdown",
   "metadata": {},
   "source": [
    "#### Soma de Quadrados com Expressão Geradora\n",
    "Use uma expressão geradora para calcular a soma dos quadrados dos números de 1 a 10."
   ]
  },
  {
   "cell_type": "code",
   "execution_count": null,
   "metadata": {},
   "outputs": [],
   "source": []
  },
  {
   "cell_type": "markdown",
   "metadata": {},
   "source": [
    "#### Gerador de Sequência Infinita\n",
    "Crie um gerador infinito que produza números da sequência de Fibonacci. Exiba os primeiros\n",
    "10 números gerados."
   ]
  },
  {
   "cell_type": "code",
   "execution_count": null,
   "metadata": {},
   "outputs": [],
   "source": []
  },
  {
   "cell_type": "markdown",
   "metadata": {},
   "source": [
    "#### Gerador Personalizado\n",
    "Crie um gerador que receba dois números, start e end, e produza todos os números primos\n",
    "dentro desse intervalo. Teste o gerador imprimindo os números gerados para o intervalo de\n",
    "10 a 50."
   ]
  },
  {
   "cell_type": "code",
   "execution_count": null,
   "metadata": {},
   "outputs": [],
   "source": []
  },
  {
   "cell_type": "markdown",
   "metadata": {},
   "source": [
    "#### Gerador Infinito com Condição de Parada\n",
    "Crie um gerador infinito que produza números da sequência de Fibonacci. Ele deve parar au-\n",
    "tomaticamente quando o número gerado exceder um valor limite fornecido como argumento\n",
    "(por exemplo, 10.000)."
   ]
  },
  {
   "cell_type": "code",
   "execution_count": null,
   "metadata": {},
   "outputs": [],
   "source": []
  }
 ],
 "metadata": {
  "kernelspec": {
   "display_name": "Python 3",
   "language": "python",
   "name": "python3"
  },
  "language_info": {
   "codemirror_mode": {
    "name": "ipython",
    "version": 3
   },
   "file_extension": ".py",
   "mimetype": "text/x-python",
   "name": "python",
   "nbconvert_exporter": "python",
   "pygments_lexer": "ipython3",
   "version": "3.12.1"
  }
 },
 "nbformat": 4,
 "nbformat_minor": 2
}
